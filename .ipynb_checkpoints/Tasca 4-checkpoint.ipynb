{
 "cells": [
  {
   "cell_type": "markdown",
   "metadata": {},
   "source": [
    "# IT Academy - Data Science amb Python\n",
    "## Tasca 4: Programació numèrica amb NumPy"
   ]
  },
  {
   "cell_type": "code",
   "execution_count": 1,
   "metadata": {
    "ExecuteTime": {
     "end_time": "2021-05-13T07:41:26.151730Z",
     "start_time": "2021-05-13T07:41:25.854644Z"
    }
   },
   "outputs": [],
   "source": [
    "import numpy as np\n",
    "from numpy import random"
   ]
  },
  {
   "cell_type": "markdown",
   "metadata": {},
   "source": [
    "### Exercici 1"
   ]
  },
  {
   "cell_type": "code",
   "execution_count": 2,
   "metadata": {
    "ExecuteTime": {
     "end_time": "2021-05-13T07:41:26.167290Z",
     "start_time": "2021-05-13T07:41:26.155717Z"
    }
   },
   "outputs": [],
   "source": [
    "arr1 = random.randint(100, size=(6))\n",
    "arr2 = random.randint(100, size = (3, 3))"
   ]
  },
  {
   "cell_type": "code",
   "execution_count": 3,
   "metadata": {
    "ExecuteTime": {
     "end_time": "2021-05-13T07:41:26.214478Z",
     "start_time": "2021-05-13T07:41:26.172958Z"
    }
   },
   "outputs": [],
   "source": [
    "def arr_summary(arr):\n",
    "    print(arr)\n",
    "    if arr.ndim == 1:\n",
    "        print(\"Mitja: \", round(np.mean(arr),2))\n",
    "        print(\"Mitjana: \", np.median(arr))\n",
    "        print(\"Variància: \", round(np.var(arr),2))\n",
    "        print(\"Desviació standard: \", round(np.std(arr), 2))\n",
    "    else:\n",
    "        print(\"La matriu introduïda te més d'una dimensió.\")\n"
   ]
  },
  {
   "cell_type": "code",
   "execution_count": 4,
   "metadata": {
    "ExecuteTime": {
     "end_time": "2021-05-13T07:41:26.245486Z",
     "start_time": "2021-05-13T07:41:26.220485Z"
    }
   },
   "outputs": [
    {
     "name": "stdout",
     "output_type": "stream",
     "text": [
      "[76 86 52 36  7 42]\n",
      "Mitja:  49.83\n",
      "Mitjana:  47.0\n",
      "Variància:  680.81\n",
      "Desviació standard:  26.09\n"
     ]
    }
   ],
   "source": [
    "arr_summary(arr1)"
   ]
  },
  {
   "cell_type": "code",
   "execution_count": 5,
   "metadata": {
    "ExecuteTime": {
     "end_time": "2021-05-13T07:41:26.261492Z",
     "start_time": "2021-05-13T07:41:26.249491Z"
    }
   },
   "outputs": [
    {
     "name": "stdout",
     "output_type": "stream",
     "text": [
      "[[ 6 32 59]\n",
      " [43 21  2]\n",
      " [20  8  5]]\n",
      "La matriu introduïda te més d'una dimensió.\n"
     ]
    }
   ],
   "source": [
    "arr_summary(arr2)"
   ]
  },
  {
   "cell_type": "markdown",
   "metadata": {},
   "source": [
    "### Exercici 2"
   ]
  },
  {
   "cell_type": "code",
   "execution_count": 6,
   "metadata": {
    "ExecuteTime": {
     "end_time": "2021-05-13T07:41:26.277496Z",
     "start_time": "2021-05-13T07:41:26.265492Z"
    }
   },
   "outputs": [],
   "source": [
    "def random_array(size):\n",
    "    return np.random.randint(101, size = size)"
   ]
  },
  {
   "cell_type": "code",
   "execution_count": 7,
   "metadata": {
    "ExecuteTime": {
     "end_time": "2021-05-13T07:41:26.293500Z",
     "start_time": "2021-05-13T07:41:26.281497Z"
    }
   },
   "outputs": [
    {
     "name": "stdout",
     "output_type": "stream",
     "text": [
      "[[[ 56  48  42]\n",
      "  [  8  23  55]\n",
      "  [100  31  71]]\n",
      "\n",
      " [[ 62  98 100]\n",
      "  [ 90  53   8]\n",
      "  [ 15  49  69]]\n",
      "\n",
      " [[ 37  83  43]\n",
      "  [ 22  95  90]\n",
      "  [ 43  89  94]]]\n"
     ]
    }
   ],
   "source": [
    "arr3 = random_array((3, 3, 3))\n",
    "print(arr3)"
   ]
  },
  {
   "cell_type": "markdown",
   "metadata": {},
   "source": [
    "### Exercici 3"
   ]
  },
  {
   "cell_type": "code",
   "execution_count": 8,
   "metadata": {
    "ExecuteTime": {
     "end_time": "2021-05-13T07:41:26.309506Z",
     "start_time": "2021-05-13T07:41:26.299503Z"
    }
   },
   "outputs": [],
   "source": [
    "def total_sum(arr):\n",
    "    if arr.ndim == 2:\n",
    "        print(\"Total per files: \", np.sum(arr, axis = 1))\n",
    "        print(\"Total per columnes: \", np.sum(arr, axis = 0))\n"
   ]
  },
  {
   "cell_type": "code",
   "execution_count": 9,
   "metadata": {
    "ExecuteTime": {
     "end_time": "2021-05-13T07:41:26.324508Z",
     "start_time": "2021-05-13T07:41:26.314506Z"
    }
   },
   "outputs": [
    {
     "name": "stdout",
     "output_type": "stream",
     "text": [
      "[[47  4  2]\n",
      " [31 72 15]\n",
      " [38 92 12]]\n"
     ]
    }
   ],
   "source": [
    "arr4 = random_array((3,3))\n",
    "print(arr4)"
   ]
  },
  {
   "cell_type": "code",
   "execution_count": 10,
   "metadata": {
    "ExecuteTime": {
     "end_time": "2021-05-13T07:41:26.339510Z",
     "start_time": "2021-05-13T07:41:26.328506Z"
    }
   },
   "outputs": [
    {
     "name": "stdout",
     "output_type": "stream",
     "text": [
      "Total per files:  [ 53 118 142]\n",
      "Total per columnes:  [116 168  29]\n"
     ]
    }
   ],
   "source": [
    "total_sum(arr4)"
   ]
  },
  {
   "cell_type": "markdown",
   "metadata": {},
   "source": [
    "### Exercici 4\n",
    "#### Coeficient de Correlació de Pearson\n",
    "\n",
    "El Coeficient de Correlació de Pearson, també conegut com el Coeficient de Correlació Producte-Moment de Pearson, és un índex que mesura la relació lineal entre dues variables quantitatives.\n",
    "\n",
    "El Coeficient de Correlació (*ρ*) entre dues variables aleatòries *X* i *Y* és el quocient de la seva covariància pel producte de les seves desviacions estàndard.\n",
    "\n",
    "![{\\displaystyle R={\\frac {\\sigma _{XY}}{\\sigma _{X}\\cdot \\sigma _{Y}}}}](https://wikimedia.org/api/rest_v1/media/math/render/svg/f76ccfa7c2ed7f5b085115086107bbe25d329cec)\n",
    "\n",
    "ón: \n",
    " - cov(X,Y) és la covariància entre X i Y\n",
    "- σX és la desviació estàndard de X\n",
    "- σY és la desviació estàndard de Y"
   ]
  },
  {
   "cell_type": "markdown",
   "metadata": {},
   "source": [
    "#### 0. Preparació de les dades"
   ]
  },
  {
   "cell_type": "code",
   "execution_count": 11,
   "metadata": {
    "ExecuteTime": {
     "end_time": "2021-05-13T07:41:27.353628Z",
     "start_time": "2021-05-13T07:41:26.343516Z"
    }
   },
   "outputs": [
    {
     "name": "stdout",
     "output_type": "stream",
     "text": [
      "data1: mean=101.564 stdv=19.211\n",
      "data2: mean=151.865 stdv=21.922\n"
     ]
    },
    {
     "data": {
      "image/png": "[encoded data removed]",
      "text/plain": [
       "<Figure size 432x288 with 1 Axes>"
      ]
     },
     "metadata": {
      "needs_background": "light"
     },
     "output_type": "display_data"
    }
   ],
   "source": [
    "from matplotlib import pyplot\n",
    "from math import sqrt\n",
    "\n",
    "# Creació del Generador\n",
    "rng = random.default_rng()\n",
    "\n",
    "# Creació dels conjunts de dades de X i de Y\n",
    "data1 = 20 * rng.standard_normal(100) + 100\n",
    "data2 = data1 + (10 * rng.standard_normal(100) + 50)\n",
    "\n",
    "# Resum estadístic de les dades\n",
    "print('data1: mean=%.3f stdv=%.3f' % (np.mean(data1), np.std(data1)))\n",
    "print('data2: mean=%.3f stdv=%.3f' % (np.mean(data2), np.std(data2)))\n",
    "\n",
    "# Visualització de les dades\n",
    "pyplot.scatter(data1, data2)\n",
    "pyplot.show()"
   ]
  },
  {
   "cell_type": "markdown",
   "metadata": {},
   "source": [
    "#### 1. Covariància entre X i Y\n",
    "La covariància és una mesura de dispersió conjunta de dues variables estadístiques. La covariància mesura la variació total de dues variables aleatòries respecte els seus valors esperats. \n",
    "\n",
    "Amb aquesta mesura només es pot mesurar la direcció de la relació (és a dir, si les variables tendeixen a moure's en tàndem o mostren una relació inversa). No obstant això, no indica la força de la relació, ni la dependència entre les variables.\n",
    "\n",
    "La fórmula de la covariància per a una mostra és:\n",
    "\n",
    "<img src=\"https://cdn.corporatefinanceinstitute.com/assets/covariance2.png\" alt=\"Covariance Formula (Sample)\" style=\"zoom:50%;\" />  \n",
    "\n",
    "ón:\n",
    "- Xi : observació número i de la variable X\n",
    "- Yj : observació número j de la variable Y\n",
    "- X̄ : mitjana aritmètica de X\n",
    "- Ȳ : mitjana aritmètica de Y\n",
    "- n : número de observacions"
   ]
  },
  {
   "cell_type": "code",
   "execution_count": 12,
   "metadata": {
    "ExecuteTime": {
     "end_time": "2021-05-13T07:41:27.369634Z",
     "start_time": "2021-05-13T07:41:27.357630Z"
    }
   },
   "outputs": [
    {
     "name": "stdout",
     "output_type": "stream",
     "text": [
      "Covariància entre X i Y: 388.420\n"
     ]
    }
   ],
   "source": [
    "x_mean = np.mean(data1)\n",
    "y_mean = np.mean(data2)\n",
    "n = data1.size\n",
    "\n",
    "x_distance = [xi - x_mean for xi in data1]\n",
    "y_distance = [yi - y_mean for yi in data2]\n",
    "cov_xy = sum(np.multiply(x_distance, y_distance)) / (n-1)\n",
    "print(\"Covariància entre X i Y: %.3f\" % cov_xy)"
   ]
  },
  {
   "cell_type": "markdown",
   "metadata": {},
   "source": [
    "#### 2. Desviació estàndard\n",
    "\n",
    "La desviació estàndard (σ), també coneguda com a desviació tipus o desviació típica, és una mesura que quantifica quanta dispersió hi ha respecte a la mitjana.\n",
    "\n",
    "Una desviació tipus baixa indica que els punts de dades tendeixen a ser propers a la mitjana, mentre que una desviació tipus alta indica que les dades s'estenen al llarg d'un gran rang de valors.\n",
    "\n",
    "La desviació estándard d'un conjunt de dades és l'arrell quadrada de la seva variància. Una propietat útil de la desviació tipus és que, a diferència de la variància, està expressada en les mateixes unitats que les de les dades.\n",
    "\n",
    "  <img src=\"https://tablademultiplicar.net/wp-content/uploads/2020/04/formulas-de-desviacion-estandar.jpg\" alt=\"Fórmulas de desviación estándar - Tabla de multiplicar\" style=\"zoom: 67%;\" />\n",
    "\n",
    "on:\n",
    "* Xi : observació número i de la variable X\n",
    "* X̄ : mitjana aritmètica de X\n",
    "* N : número d'observacions de X"
   ]
  },
  {
   "cell_type": "code",
   "execution_count": 13,
   "metadata": {
    "ExecuteTime": {
     "end_time": "2021-05-13T07:41:27.416747Z",
     "start_time": "2021-05-13T07:41:27.374459Z"
    }
   },
   "outputs": [
    {
     "name": "stdout",
     "output_type": "stream",
     "text": [
      "Desviació estàndard de X: 19.211\n"
     ]
    }
   ],
   "source": [
    "x_distance_squared = [(xi - x_mean)**2 for xi in data1]\n",
    "x_variance = np.sum(x_distance_squared) / n\n",
    "x_std = sqrt(x_variance)\n",
    "print(\"Desviació estàndard de X: %.3f\" % x_std)"
   ]
  },
  {
   "cell_type": "code",
   "execution_count": 14,
   "metadata": {
    "ExecuteTime": {
     "end_time": "2021-05-13T07:41:27.432751Z",
     "start_time": "2021-05-13T07:41:27.421748Z"
    }
   },
   "outputs": [
    {
     "name": "stdout",
     "output_type": "stream",
     "text": [
      "Desviació estàndard de Y: 21.922\n"
     ]
    }
   ],
   "source": [
    "y_distance_squared = [(yi - y_mean)**2 for yi in data2]\n",
    "y_variance = np.sum(y_distance_squared) / n\n",
    "y_std = sqrt(y_variance)\n",
    "print(\"Desviació estàndard de Y: %.3f\" % y_std)"
   ]
  },
  {
   "cell_type": "markdown",
   "metadata": {},
   "source": [
    "#### 3. Càlcul de la correlació de Pearson \n",
    "\n",
    "La correlació mesura la força de la relació entre variables. La correlació és la mesura escalada de la covariància. No té cap dimensió, és a dir, el coeficient de correlació és sempre un valor pur i no es mesura en cap unitat.\n",
    "\n",
    "El seu valor, amb un rang de \\[-1, 1], pot interpretar-se de la següent manera:\n",
    "* +1.0 - Correlació positiva completa\n",
    "* +0.8 - Correlació positiva forta\n",
    "* +0.6 - Correlació positiva moderada\n",
    "* 0.0 - Sense cap correlació\n",
    "* -0.6 - Correlació negativa moderada\n",
    "* -0.8 - Correlació negativa forta\n",
    "* -1.0 - Correlació negativa completa\n",
    "\n",
    "El rendiment d'alguns algoritmes pot deteriorar-se si dues o més variables estan estretament relacionades, anomenades multicol·linealitat. Per exemple, el model de regressió lineal múltiple assumeix que no existeix multicol·linealitat perfecta en el model."
   ]
  },
  {
   "cell_type": "code",
   "execution_count": 15,
   "metadata": {
    "ExecuteTime": {
     "end_time": "2021-05-13T07:41:27.447754Z",
     "start_time": "2021-05-13T07:41:27.438755Z"
    }
   },
   "outputs": [
    {
     "name": "stdout",
     "output_type": "stream",
     "text": [
      "Coeficient de Correlació entre X i Y: 0.922\n"
     ]
    }
   ],
   "source": [
    "coefcorr = cov_xy / (x_std * y_std)\n",
    "print(\"Coeficient de Correlació entre X i Y: %.3f\" % coefcorr)"
   ]
  },
  {
   "cell_type": "markdown",
   "metadata": {},
   "source": [
    "#### 4. Creació de la funció"
   ]
  },
  {
   "cell_type": "code",
   "execution_count": 16,
   "metadata": {
    "ExecuteTime": {
     "end_time": "2021-05-13T07:41:27.463757Z",
     "start_time": "2021-05-13T07:41:27.451758Z"
    }
   },
   "outputs": [],
   "source": [
    "def coefcorr(x, y):\n",
    "\n",
    "    x_distance = [xi - np.mean(x) for xi in x]\n",
    "    y_distance = [yi - np.mean(y) for yi in y]\n",
    "    cov_xy = sum(np.multiply(x_distance, y_distance)) / (x.size-1)\n",
    "\n",
    "    x_distance_square = np.power(x_distance, 2)\n",
    "    x_std = sqrt(np.sum(x_distance_square / x.size))\n",
    "\n",
    "    y_distance_square = np.power(y_distance, 2)\n",
    "    y_std = sqrt(np.sum(y_distance_square/ y.size))\n",
    "\n",
    "    return cov_xy / (x_std * y_std)"
   ]
  },
  {
   "cell_type": "code",
   "execution_count": 17,
   "metadata": {
    "ExecuteTime": {
     "end_time": "2021-05-13T07:41:27.494763Z",
     "start_time": "2021-05-13T07:41:27.468761Z"
    }
   },
   "outputs": [
    {
     "data": {
      "text/plain": [
       "0.9222953166030119"
      ]
     },
     "execution_count": 17,
     "metadata": {},
     "output_type": "execute_result"
    }
   ],
   "source": [
    "coefcorr(data1, data2)"
   ]
  },
  {
   "cell_type": "markdown",
   "metadata": {},
   "source": [
    "#### 5. Comprobació"
   ]
  },
  {
   "cell_type": "code",
   "execution_count": 18,
   "metadata": {
    "ExecuteTime": {
     "end_time": "2021-05-13T07:41:27.525770Z",
     "start_time": "2021-05-13T07:41:27.497766Z"
    }
   },
   "outputs": [
    {
     "data": {
      "text/plain": [
       "array([[1.        , 0.91307236],\n",
       "       [0.91307236, 1.        ]])"
      ]
     },
     "execution_count": 18,
     "metadata": {},
     "output_type": "execute_result"
    }
   ],
   "source": [
    "np.corrcoef(data1, data2)"
   ]
  },
  {
   "cell_type": "code",
   "execution_count": null,
   "metadata": {},
   "outputs": [],
   "source": []
  }
 ],
 "metadata": {
  "kernelspec": {
   "display_name": "Python 3",
   "language": "python",
   "name": "python3"
  },
  "language_info": {
   "codemirror_mode": {
    "name": "ipython",
    "version": 3
   },
   "file_extension": ".py",
   "mimetype": "text/x-python",
   "name": "python",
   "nbconvert_exporter": "python",
   "pygments_lexer": "ipython3",
   "version": "3.8.5"
  },
  "toc": {
   "base_numbering": 1,
   "nav_menu": {},
   "number_sections": false,
   "sideBar": true,
   "skip_h1_title": false,
   "title_cell": "Table of Contents",
   "title_sidebar": "Contents",
   "toc_cell": false,
   "toc_position": {},
   "toc_section_display": true,
   "toc_window_display": true
  }
 },
 "nbformat": 4,
 "nbformat_minor": 2
}
