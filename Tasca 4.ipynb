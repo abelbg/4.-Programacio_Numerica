{
 "metadata": {
  "language_info": {
   "codemirror_mode": {
    "name": "ipython",
    "version": 3
   },
   "file_extension": ".py",
   "mimetype": "text/x-python",
   "name": "python",
   "nbconvert_exporter": "python",
   "pygments_lexer": "ipython3",
   "version": "3.8.5"
  },
  "orig_nbformat": 2,
  "kernelspec": {
   "name": "python385jvsc74a57bd06345758e5d736e732c2a7feeb6de508c9984c306a9009e8a74375b042c9b7f5c",
   "display_name": "Python 3.8.5 64-bit ('base': conda)"
  }
 },
 "nbformat": 4,
 "nbformat_minor": 2,
 "cells": [
  {
   "source": [
    "# IT Academy - Data Science amb Python\n",
    "## Tasca 4: Programació numèrica amb NumPy"
   ],
   "cell_type": "markdown",
   "metadata": {}
  },
  {
   "cell_type": "code",
   "execution_count": 1,
   "metadata": {},
   "outputs": [],
   "source": [
    "import numpy as np\n",
    "from numpy import random"
   ]
  },
  {
   "source": [
    "### Exercici 1"
   ],
   "cell_type": "markdown",
   "metadata": {}
  },
  {
   "cell_type": "code",
   "execution_count": 2,
   "metadata": {},
   "outputs": [],
   "source": [
    "arr1 = random.randint(100, size=(6))\n",
    "arr2 = random.randint(100, size = (3, 3))"
   ]
  },
  {
   "cell_type": "code",
   "execution_count": 3,
   "metadata": {},
   "outputs": [],
   "source": [
    "def arr_summary(arr):\n",
    "    print(arr)\n",
    "    if arr.ndim == 1:\n",
    "        print(\"Mitja: \", round(np.mean(arr),2))\n",
    "        print(\"Mitjana: \", np.median(arr))\n",
    "        print(\"Variància: \", round(np.var(arr),2))\n",
    "        print(\"Desviació standard: \", round(np.std(arr), 2))\n",
    "    else:\n",
    "        print(\"La matriu introduïda te més d'una dimensió.\")\n"
   ]
  },
  {
   "cell_type": "code",
   "execution_count": 4,
   "metadata": {},
   "outputs": [
    {
     "output_type": "stream",
     "name": "stdout",
     "text": [
      "[57 64 49 64 12 71]\nMitja:  52.83\nMitjana:  60.5\nVariància:  379.81\nDesviació standard:  19.49\n"
     ]
    }
   ],
   "source": [
    "arr_summary(arr1)"
   ]
  },
  {
   "cell_type": "code",
   "execution_count": 5,
   "metadata": {},
   "outputs": [
    {
     "output_type": "stream",
     "name": "stdout",
     "text": [
      "[[86  2  6]\n [45 54 17]\n [38  0 89]]\nLa matriu introduïda te més d'una dimensió.\n"
     ]
    }
   ],
   "source": [
    "arr_summary(arr2)"
   ]
  },
  {
   "source": [
    "### Exercici 2"
   ],
   "cell_type": "markdown",
   "metadata": {}
  },
  {
   "cell_type": "code",
   "execution_count": 6,
   "metadata": {},
   "outputs": [],
   "source": [
    "def random_array(size):\n",
    "    return np.random.randint(101, size = size)"
   ]
  },
  {
   "cell_type": "code",
   "execution_count": 7,
   "metadata": {},
   "outputs": [
    {
     "output_type": "stream",
     "name": "stdout",
     "text": [
      "[[[81 76 25]\n  [53 37 25]\n  [18  7 78]]\n\n [[25 66 25]\n  [43 24 94]\n  [51 84  2]]\n\n [[ 6 97 84]\n  [58 29 33]\n  [78 22 20]]]\n"
     ]
    }
   ],
   "source": [
    "arr3 = random_array((3, 3, 3))\n",
    "print(arr3)"
   ]
  },
  {
   "source": [
    "### Exercici 3"
   ],
   "cell_type": "markdown",
   "metadata": {}
  },
  {
   "cell_type": "code",
   "execution_count": 8,
   "metadata": {},
   "outputs": [],
   "source": [
    "def total_sum(arr):\n",
    "    if arr.ndim == 2:\n",
    "        print(\"Total per files: \", np.sum(arr, axis = 1))\n",
    "        print(\"Total per columnes: \", np.sum(arr, axis = 0))\n"
   ]
  },
  {
   "cell_type": "code",
   "execution_count": 9,
   "metadata": {},
   "outputs": [
    {
     "output_type": "stream",
     "name": "stdout",
     "text": [
      "[[81  2  2]\n [35 32 55]\n [13 81 79]]\n"
     ]
    }
   ],
   "source": [
    "arr4 = random_array((3,3))\n",
    "print(arr4)"
   ]
  },
  {
   "cell_type": "code",
   "execution_count": 10,
   "metadata": {},
   "outputs": [
    {
     "output_type": "stream",
     "name": "stdout",
     "text": [
      "Total per files:  [ 85 122 173]\nTotal per columnes:  [129 115 136]\n"
     ]
    }
   ],
   "source": [
    "total_sum(arr4)"
   ]
  },
  {
   "source": [
    "### Exercici 4\n",
    "#### Coeficient de Correlació de Pearson\n",
    "\n",
    "El Coeficient de Correlació de Pearson, també conegut com el Coeficient de Correlació Producte-Moment de Pearson, és un índex que mesura la relació lineal entre dues variables quantitatives.\n",
    "\n",
    "El Coeficient de Correlació (*ρ*) entre dues variables aleatòries *X* i *Y* és el quocient de la seva covariància pel producte de les seves desviacions estàndard.\n",
    "\n",
    "![{\\displaystyle R={\\frac {\\sigma _{XY}}{\\sigma _{X}\\cdot \\sigma _{Y}}}}](https://wikimedia.org/api/rest_v1/media/math/render/svg/f76ccfa7c2ed7f5b085115086107bbe25d329cec)\n",
    "\n",
    "ón: \n",
    " - cov(X,Y) és la covariància entre X i Y\n",
    "- σX és la desviació estàndard de X\n",
    "- σY és la desviació estàndard de Y"
   ],
   "cell_type": "markdown",
   "metadata": {}
  },
  {
   "source": [
    "#### 0. Preparació de les dades"
   ],
   "cell_type": "markdown",
   "metadata": {}
  },
  {
   "cell_type": "code",
   "execution_count": 11,
   "metadata": {},
   "outputs": [
    {
     "output_type": "stream",
     "name": "stdout",
     "text": [
      "data1: mean=98.593 stdv=19.835\ndata2: mean=149.796 stdv=22.615\n"
     ]
    },
    {
     "output_type": "display_data",
     "data": {
      "text/plain": "<Figure size 432x288 with 1 Axes>",
      "image/svg+xml": "<?xml version=\"1.0\" encoding=\"utf-8\" standalone=\"no\"?>\r\n<!DOCTYPE svg PUBLIC \"-//W3C//DTD SVG 1.1//EN\"\r\n  \"http://www.w3.org/Graphics/SVG/1.1/DTD/svg11.dtd\">\r\n<!-- Created with matplotlib (https://matplotlib.org/) -->\r\n<svg height=\"248.518125pt\" version=\"1.1\" viewBox=\"0 0 375.2875 248.518125\" width=\"375.2875pt\" xmlns=\"http://www.w3.org/2000/svg\" xmlns:xlink=\"http://www.w3.org/1999/xlink\">\r\n <metadata>\r\n  <rdf:RDF xmlns:cc=\"http://creativecommons.org/ns#\" xmlns:dc=\"http://purl.org/dc/elements/1.1/\" xmlns:rdf=\"http://www.w3.org/1999/02/22-rdf-syntax-ns#\">\r\n   <cc:Work>\r\n    <dc:type rdf:resource=\"http://purl.org/dc/dcmitype/StillImage\"/>\r\n    <dc:date>2021-05-13T02:29:29.236853</dc:date>\r\n    <dc:format>image/svg+xml</dc:format>\r\n    <dc:creator>\r\n     <cc:Agent>\r\n      <dc:title>Matplotlib v3.3.2, https://matplotlib.org/</dc:title>\r\n     </cc:Agent>\r\n    </dc:creator>\r\n   </cc:Work>\r\n  </rdf:RDF>\r\n </metadata>\r\n <defs>\r\n  <style type=\"text/css\">*{stroke-linecap:butt;stroke-linejoin:round;}</style>\r\n </defs>\r\n <g id=\"figure_1\">\r\n  <g id=\"patch_1\">\r\n   <path d=\"M 0 248.518125 \r\nL 375.2875 248.518125 \r\nL 375.2875 0 \r\nL 0 0 \r\nz\r\n\" style=\"fill:none;\"/>\r\n  </g>\r\n  <g id=\"axes_1\">\r\n   <g id=\"patch_2\">\r\n    <path d=\"M 33.2875 224.64 \r\nL 368.0875 224.64 \r\nL 368.0875 7.2 \r\nL 33.2875 7.2 \r\nz\r\n\" style=\"fill:#ffffff;\"/>\r\n   </g>\r\n   <g id=\"PathCollection_1\">\r\n    <defs>\r\n     <path d=\"M 0 3 \r\nC 0.795609 3 1.55874 2.683901 2.12132 2.12132 \r\nC 2.683901 1.55874 3 0.795609 3 0 \r\nC 3 -0.795609 2.683901 -1.55874 2.12132 -2.12132 \r\nC 1.55874 -2.683901 0.795609 -3 0 -3 \r\nC -0.795609 -3 -1.55874 -2.683901 -2.12132 -2.12132 \r\nC -2.683901 -1.55874 -3 -0.795609 -3 0 \r\nC -3 0.795609 -2.683901 1.55874 -2.12132 2.12132 \r\nC -1.55874 2.683901 -0.795609 3 0 3 \r\nz\r\n\" id=\"mfcb0768c07\" style=\"stroke:#1f77b4;\"/>\r\n    </defs>\r\n    <g clip-path=\"url(#p10c812f416)\">\r\n     <use style=\"fill:#1f77b4;stroke:#1f77b4;\" x=\"231.191043\" xlink:href=\"#mfcb0768c07\" y=\"133.631155\"/>\r\n     <use style=\"fill:#1f77b4;stroke:#1f77b4;\" x=\"169.184633\" xlink:href=\"#mfcb0768c07\" y=\"119.21915\"/>\r\n     <use style=\"fill:#1f77b4;stroke:#1f77b4;\" x=\"227.859623\" xlink:href=\"#mfcb0768c07\" y=\"133.854641\"/>\r\n     <use style=\"fill:#1f77b4;stroke:#1f77b4;\" x=\"202.510942\" xlink:href=\"#mfcb0768c07\" y=\"150.97253\"/>\r\n     <use style=\"fill:#1f77b4;stroke:#1f77b4;\" x=\"331.71046\" xlink:href=\"#mfcb0768c07\" y=\"20.893695\"/>\r\n     <use style=\"fill:#1f77b4;stroke:#1f77b4;\" x=\"226.953479\" xlink:href=\"#mfcb0768c07\" y=\"141.693495\"/>\r\n     <use style=\"fill:#1f77b4;stroke:#1f77b4;\" x=\"186.593963\" xlink:href=\"#mfcb0768c07\" y=\"88.408267\"/>\r\n     <use style=\"fill:#1f77b4;stroke:#1f77b4;\" x=\"208.278082\" xlink:href=\"#mfcb0768c07\" y=\"99.451978\"/>\r\n     <use style=\"fill:#1f77b4;stroke:#1f77b4;\" x=\"254.218515\" xlink:href=\"#mfcb0768c07\" y=\"89.385568\"/>\r\n     <use style=\"fill:#1f77b4;stroke:#1f77b4;\" x=\"240.925069\" xlink:href=\"#mfcb0768c07\" y=\"83.667281\"/>\r\n     <use style=\"fill:#1f77b4;stroke:#1f77b4;\" x=\"243.877407\" xlink:href=\"#mfcb0768c07\" y=\"75.917051\"/>\r\n     <use style=\"fill:#1f77b4;stroke:#1f77b4;\" x=\"118.058636\" xlink:href=\"#mfcb0768c07\" y=\"164.515405\"/>\r\n     <use style=\"fill:#1f77b4;stroke:#1f77b4;\" x=\"273.741803\" xlink:href=\"#mfcb0768c07\" y=\"76.855186\"/>\r\n     <use style=\"fill:#1f77b4;stroke:#1f77b4;\" x=\"133.065378\" xlink:href=\"#mfcb0768c07\" y=\"152.134551\"/>\r\n     <use style=\"fill:#1f77b4;stroke:#1f77b4;\" x=\"150.708945\" xlink:href=\"#mfcb0768c07\" y=\"157.591085\"/>\r\n     <use style=\"fill:#1f77b4;stroke:#1f77b4;\" x=\"160.152592\" xlink:href=\"#mfcb0768c07\" y=\"131.668185\"/>\r\n     <use style=\"fill:#1f77b4;stroke:#1f77b4;\" x=\"332.404729\" xlink:href=\"#mfcb0768c07\" y=\"17.083636\"/>\r\n     <use style=\"fill:#1f77b4;stroke:#1f77b4;\" x=\"167.668185\" xlink:href=\"#mfcb0768c07\" y=\"136.953767\"/>\r\n     <use style=\"fill:#1f77b4;stroke:#1f77b4;\" x=\"158.28236\" xlink:href=\"#mfcb0768c07\" y=\"143.400654\"/>\r\n     <use style=\"fill:#1f77b4;stroke:#1f77b4;\" x=\"333.258434\" xlink:href=\"#mfcb0768c07\" y=\"51.991975\"/>\r\n     <use style=\"fill:#1f77b4;stroke:#1f77b4;\" x=\"245.780112\" xlink:href=\"#mfcb0768c07\" y=\"126.291308\"/>\r\n     <use style=\"fill:#1f77b4;stroke:#1f77b4;\" x=\"131.813491\" xlink:href=\"#mfcb0768c07\" y=\"145.710599\"/>\r\n     <use style=\"fill:#1f77b4;stroke:#1f77b4;\" x=\"203.604229\" xlink:href=\"#mfcb0768c07\" y=\"115.640428\"/>\r\n     <use style=\"fill:#1f77b4;stroke:#1f77b4;\" x=\"196.714263\" xlink:href=\"#mfcb0768c07\" y=\"109.948084\"/>\r\n     <use style=\"fill:#1f77b4;stroke:#1f77b4;\" x=\"126.938241\" xlink:href=\"#mfcb0768c07\" y=\"153.546196\"/>\r\n     <use style=\"fill:#1f77b4;stroke:#1f77b4;\" x=\"248.896889\" xlink:href=\"#mfcb0768c07\" y=\"82.711612\"/>\r\n     <use style=\"fill:#1f77b4;stroke:#1f77b4;\" x=\"189.532735\" xlink:href=\"#mfcb0768c07\" y=\"105.835555\"/>\r\n     <use style=\"fill:#1f77b4;stroke:#1f77b4;\" x=\"203.682368\" xlink:href=\"#mfcb0768c07\" y=\"124.501677\"/>\r\n     <use style=\"fill:#1f77b4;stroke:#1f77b4;\" x=\"159.504586\" xlink:href=\"#mfcb0768c07\" y=\"150.213261\"/>\r\n     <use style=\"fill:#1f77b4;stroke:#1f77b4;\" x=\"77.41185\" xlink:href=\"#mfcb0768c07\" y=\"175.425628\"/>\r\n     <use style=\"fill:#1f77b4;stroke:#1f77b4;\" x=\"206.126014\" xlink:href=\"#mfcb0768c07\" y=\"107.832212\"/>\r\n     <use style=\"fill:#1f77b4;stroke:#1f77b4;\" x=\"196.424091\" xlink:href=\"#mfcb0768c07\" y=\"145.541752\"/>\r\n     <use style=\"fill:#1f77b4;stroke:#1f77b4;\" x=\"268.422317\" xlink:href=\"#mfcb0768c07\" y=\"39.432328\"/>\r\n     <use style=\"fill:#1f77b4;stroke:#1f77b4;\" x=\"285.947448\" xlink:href=\"#mfcb0768c07\" y=\"54.93539\"/>\r\n     <use style=\"fill:#1f77b4;stroke:#1f77b4;\" x=\"147.901651\" xlink:href=\"#mfcb0768c07\" y=\"184.459937\"/>\r\n     <use style=\"fill:#1f77b4;stroke:#1f77b4;\" x=\"248.36835\" xlink:href=\"#mfcb0768c07\" y=\"109.18292\"/>\r\n     <use style=\"fill:#1f77b4;stroke:#1f77b4;\" x=\"122.223638\" xlink:href=\"#mfcb0768c07\" y=\"153.507201\"/>\r\n     <use style=\"fill:#1f77b4;stroke:#1f77b4;\" x=\"114.961063\" xlink:href=\"#mfcb0768c07\" y=\"137.310634\"/>\r\n     <use style=\"fill:#1f77b4;stroke:#1f77b4;\" x=\"286.599661\" xlink:href=\"#mfcb0768c07\" y=\"68.73081\"/>\r\n     <use style=\"fill:#1f77b4;stroke:#1f77b4;\" x=\"224.510145\" xlink:href=\"#mfcb0768c07\" y=\"124.487971\"/>\r\n     <use style=\"fill:#1f77b4;stroke:#1f77b4;\" x=\"286.442251\" xlink:href=\"#mfcb0768c07\" y=\"76.81\"/>\r\n     <use style=\"fill:#1f77b4;stroke:#1f77b4;\" x=\"200.942454\" xlink:href=\"#mfcb0768c07\" y=\"98.027653\"/>\r\n     <use style=\"fill:#1f77b4;stroke:#1f77b4;\" x=\"203.845343\" xlink:href=\"#mfcb0768c07\" y=\"165.971122\"/>\r\n     <use style=\"fill:#1f77b4;stroke:#1f77b4;\" x=\"198.496\" xlink:href=\"#mfcb0768c07\" y=\"84.883663\"/>\r\n     <use style=\"fill:#1f77b4;stroke:#1f77b4;\" x=\"133.821839\" xlink:href=\"#mfcb0768c07\" y=\"176.632576\"/>\r\n     <use style=\"fill:#1f77b4;stroke:#1f77b4;\" x=\"198.871786\" xlink:href=\"#mfcb0768c07\" y=\"138.897997\"/>\r\n     <use style=\"fill:#1f77b4;stroke:#1f77b4;\" x=\"181.701517\" xlink:href=\"#mfcb0768c07\" y=\"137.175529\"/>\r\n     <use style=\"fill:#1f77b4;stroke:#1f77b4;\" x=\"177.495509\" xlink:href=\"#mfcb0768c07\" y=\"165.469956\"/>\r\n     <use style=\"fill:#1f77b4;stroke:#1f77b4;\" x=\"215.632939\" xlink:href=\"#mfcb0768c07\" y=\"131.207403\"/>\r\n     <use style=\"fill:#1f77b4;stroke:#1f77b4;\" x=\"234.111714\" xlink:href=\"#mfcb0768c07\" y=\"98.012139\"/>\r\n     <use style=\"fill:#1f77b4;stroke:#1f77b4;\" x=\"150.664956\" xlink:href=\"#mfcb0768c07\" y=\"172.057539\"/>\r\n     <use style=\"fill:#1f77b4;stroke:#1f77b4;\" x=\"118.339692\" xlink:href=\"#mfcb0768c07\" y=\"158.717557\"/>\r\n     <use style=\"fill:#1f77b4;stroke:#1f77b4;\" x=\"190.056933\" xlink:href=\"#mfcb0768c07\" y=\"132.25518\"/>\r\n     <use style=\"fill:#1f77b4;stroke:#1f77b4;\" x=\"116.204689\" xlink:href=\"#mfcb0768c07\" y=\"201.869616\"/>\r\n     <use style=\"fill:#1f77b4;stroke:#1f77b4;\" x=\"225.373735\" xlink:href=\"#mfcb0768c07\" y=\"98.49667\"/>\r\n     <use style=\"fill:#1f77b4;stroke:#1f77b4;\" x=\"241.5528\" xlink:href=\"#mfcb0768c07\" y=\"133.490344\"/>\r\n     <use style=\"fill:#1f77b4;stroke:#1f77b4;\" x=\"172.254693\" xlink:href=\"#mfcb0768c07\" y=\"89.505913\"/>\r\n     <use style=\"fill:#1f77b4;stroke:#1f77b4;\" x=\"136.945291\" xlink:href=\"#mfcb0768c07\" y=\"166.104995\"/>\r\n     <use style=\"fill:#1f77b4;stroke:#1f77b4;\" x=\"213.594529\" xlink:href=\"#mfcb0768c07\" y=\"128.434448\"/>\r\n     <use style=\"fill:#1f77b4;stroke:#1f77b4;\" x=\"213.230828\" xlink:href=\"#mfcb0768c07\" y=\"117.274714\"/>\r\n     <use style=\"fill:#1f77b4;stroke:#1f77b4;\" x=\"175.95312\" xlink:href=\"#mfcb0768c07\" y=\"143.024552\"/>\r\n     <use style=\"fill:#1f77b4;stroke:#1f77b4;\" x=\"273.876595\" xlink:href=\"#mfcb0768c07\" y=\"99.620545\"/>\r\n     <use style=\"fill:#1f77b4;stroke:#1f77b4;\" x=\"180.595375\" xlink:href=\"#mfcb0768c07\" y=\"152.84826\"/>\r\n     <use style=\"fill:#1f77b4;stroke:#1f77b4;\" x=\"82.350892\" xlink:href=\"#mfcb0768c07\" y=\"194.4655\"/>\r\n     <use style=\"fill:#1f77b4;stroke:#1f77b4;\" x=\"255.799667\" xlink:href=\"#mfcb0768c07\" y=\"123.011574\"/>\r\n     <use style=\"fill:#1f77b4;stroke:#1f77b4;\" x=\"152.48269\" xlink:href=\"#mfcb0768c07\" y=\"138.918844\"/>\r\n     <use style=\"fill:#1f77b4;stroke:#1f77b4;\" x=\"207.462024\" xlink:href=\"#mfcb0768c07\" y=\"131.684265\"/>\r\n     <use style=\"fill:#1f77b4;stroke:#1f77b4;\" x=\"162.906927\" xlink:href=\"#mfcb0768c07\" y=\"130.422634\"/>\r\n     <use style=\"fill:#1f77b4;stroke:#1f77b4;\" x=\"216.534363\" xlink:href=\"#mfcb0768c07\" y=\"143.250299\"/>\r\n     <use style=\"fill:#1f77b4;stroke:#1f77b4;\" x=\"135.13516\" xlink:href=\"#mfcb0768c07\" y=\"147.514144\"/>\r\n     <use style=\"fill:#1f77b4;stroke:#1f77b4;\" x=\"150.421654\" xlink:href=\"#mfcb0768c07\" y=\"144.557741\"/>\r\n     <use style=\"fill:#1f77b4;stroke:#1f77b4;\" x=\"100.302551\" xlink:href=\"#mfcb0768c07\" y=\"210.363037\"/>\r\n     <use style=\"fill:#1f77b4;stroke:#1f77b4;\" x=\"113.902799\" xlink:href=\"#mfcb0768c07\" y=\"161.739712\"/>\r\n     <use style=\"fill:#1f77b4;stroke:#1f77b4;\" x=\"352.869318\" xlink:href=\"#mfcb0768c07\" y=\"37.165479\"/>\r\n     <use style=\"fill:#1f77b4;stroke:#1f77b4;\" x=\"48.505682\" xlink:href=\"#mfcb0768c07\" y=\"214.756364\"/>\r\n     <use style=\"fill:#1f77b4;stroke:#1f77b4;\" x=\"188.510638\" xlink:href=\"#mfcb0768c07\" y=\"132.006464\"/>\r\n     <use style=\"fill:#1f77b4;stroke:#1f77b4;\" x=\"287.037147\" xlink:href=\"#mfcb0768c07\" y=\"77.96844\"/>\r\n     <use style=\"fill:#1f77b4;stroke:#1f77b4;\" x=\"292.305685\" xlink:href=\"#mfcb0768c07\" y=\"32.631172\"/>\r\n     <use style=\"fill:#1f77b4;stroke:#1f77b4;\" x=\"168.186412\" xlink:href=\"#mfcb0768c07\" y=\"115.7079\"/>\r\n     <use style=\"fill:#1f77b4;stroke:#1f77b4;\" x=\"155.06337\" xlink:href=\"#mfcb0768c07\" y=\"158.19515\"/>\r\n     <use style=\"fill:#1f77b4;stroke:#1f77b4;\" x=\"316.846795\" xlink:href=\"#mfcb0768c07\" y=\"39.308732\"/>\r\n     <use style=\"fill:#1f77b4;stroke:#1f77b4;\" x=\"263.408078\" xlink:href=\"#mfcb0768c07\" y=\"121.838208\"/>\r\n     <use style=\"fill:#1f77b4;stroke:#1f77b4;\" x=\"184.096153\" xlink:href=\"#mfcb0768c07\" y=\"93.608424\"/>\r\n     <use style=\"fill:#1f77b4;stroke:#1f77b4;\" x=\"85.321594\" xlink:href=\"#mfcb0768c07\" y=\"193.478889\"/>\r\n     <use style=\"fill:#1f77b4;stroke:#1f77b4;\" x=\"163.231122\" xlink:href=\"#mfcb0768c07\" y=\"156.844236\"/>\r\n     <use style=\"fill:#1f77b4;stroke:#1f77b4;\" x=\"231.324421\" xlink:href=\"#mfcb0768c07\" y=\"127.384518\"/>\r\n     <use style=\"fill:#1f77b4;stroke:#1f77b4;\" x=\"127.883699\" xlink:href=\"#mfcb0768c07\" y=\"160.626918\"/>\r\n     <use style=\"fill:#1f77b4;stroke:#1f77b4;\" x=\"191.002173\" xlink:href=\"#mfcb0768c07\" y=\"132.583583\"/>\r\n     <use style=\"fill:#1f77b4;stroke:#1f77b4;\" x=\"301.560078\" xlink:href=\"#mfcb0768c07\" y=\"76.109394\"/>\r\n     <use style=\"fill:#1f77b4;stroke:#1f77b4;\" x=\"308.884606\" xlink:href=\"#mfcb0768c07\" y=\"72.242244\"/>\r\n     <use style=\"fill:#1f77b4;stroke:#1f77b4;\" x=\"191.631438\" xlink:href=\"#mfcb0768c07\" y=\"137.450189\"/>\r\n     <use style=\"fill:#1f77b4;stroke:#1f77b4;\" x=\"179.333769\" xlink:href=\"#mfcb0768c07\" y=\"134.604311\"/>\r\n     <use style=\"fill:#1f77b4;stroke:#1f77b4;\" x=\"244.045427\" xlink:href=\"#mfcb0768c07\" y=\"75.71242\"/>\r\n     <use style=\"fill:#1f77b4;stroke:#1f77b4;\" x=\"217.599055\" xlink:href=\"#mfcb0768c07\" y=\"99.717472\"/>\r\n     <use style=\"fill:#1f77b4;stroke:#1f77b4;\" x=\"164.975191\" xlink:href=\"#mfcb0768c07\" y=\"142.463572\"/>\r\n     <use style=\"fill:#1f77b4;stroke:#1f77b4;\" x=\"242.810035\" xlink:href=\"#mfcb0768c07\" y=\"84.768248\"/>\r\n     <use style=\"fill:#1f77b4;stroke:#1f77b4;\" x=\"254.340673\" xlink:href=\"#mfcb0768c07\" y=\"103.224289\"/>\r\n     <use style=\"fill:#1f77b4;stroke:#1f77b4;\" x=\"213.047437\" xlink:href=\"#mfcb0768c07\" y=\"97.84443\"/>\r\n     <use style=\"fill:#1f77b4;stroke:#1f77b4;\" x=\"158.669256\" xlink:href=\"#mfcb0768c07\" y=\"135.105739\"/>\r\n     <use style=\"fill:#1f77b4;stroke:#1f77b4;\" x=\"125.902947\" xlink:href=\"#mfcb0768c07\" y=\"175.824747\"/>\r\n    </g>\r\n   </g>\r\n   <g id=\"matplotlib.axis_1\">\r\n    <g id=\"xtick_1\">\r\n     <g id=\"line2d_1\">\r\n      <defs>\r\n       <path d=\"M 0 0 \r\nL 0 3.5 \r\n\" id=\"m55380200ee\" style=\"stroke:#000000;stroke-width:0.8;\"/>\r\n      </defs>\r\n      <g>\r\n       <use style=\"stroke:#000000;stroke-width:0.8;\" x=\"77.952373\" xlink:href=\"#m55380200ee\" y=\"224.64\"/>\r\n      </g>\r\n     </g>\r\n     <g id=\"text_1\">\r\n      <!-- 60 -->\r\n      <g transform=\"translate(71.589873 239.238437)scale(0.1 -0.1)\">\r\n       <defs>\r\n        <path d=\"M 33.015625 40.375 \r\nQ 26.375 40.375 22.484375 35.828125 \r\nQ 18.609375 31.296875 18.609375 23.390625 \r\nQ 18.609375 15.53125 22.484375 10.953125 \r\nQ 26.375 6.390625 33.015625 6.390625 \r\nQ 39.65625 6.390625 43.53125 10.953125 \r\nQ 47.40625 15.53125 47.40625 23.390625 \r\nQ 47.40625 31.296875 43.53125 35.828125 \r\nQ 39.65625 40.375 33.015625 40.375 \r\nz\r\nM 52.59375 71.296875 \r\nL 52.59375 62.3125 \r\nQ 48.875 64.0625 45.09375 64.984375 \r\nQ 41.3125 65.921875 37.59375 65.921875 \r\nQ 27.828125 65.921875 22.671875 59.328125 \r\nQ 17.53125 52.734375 16.796875 39.40625 \r\nQ 19.671875 43.65625 24.015625 45.921875 \r\nQ 28.375 48.1875 33.59375 48.1875 \r\nQ 44.578125 48.1875 50.953125 41.515625 \r\nQ 57.328125 34.859375 57.328125 23.390625 \r\nQ 57.328125 12.15625 50.6875 5.359375 \r\nQ 44.046875 -1.421875 33.015625 -1.421875 \r\nQ 20.359375 -1.421875 13.671875 8.265625 \r\nQ 6.984375 17.96875 6.984375 36.375 \r\nQ 6.984375 53.65625 15.1875 63.9375 \r\nQ 23.390625 74.21875 37.203125 74.21875 \r\nQ 40.921875 74.21875 44.703125 73.484375 \r\nQ 48.484375 72.75 52.59375 71.296875 \r\nz\r\n\" id=\"DejaVuSans-54\"/>\r\n        <path d=\"M 31.78125 66.40625 \r\nQ 24.171875 66.40625 20.328125 58.90625 \r\nQ 16.5 51.421875 16.5 36.375 \r\nQ 16.5 21.390625 20.328125 13.890625 \r\nQ 24.171875 6.390625 31.78125 6.390625 \r\nQ 39.453125 6.390625 43.28125 13.890625 \r\nQ 47.125 21.390625 47.125 36.375 \r\nQ 47.125 51.421875 43.28125 58.90625 \r\nQ 39.453125 66.40625 31.78125 66.40625 \r\nz\r\nM 31.78125 74.21875 \r\nQ 44.046875 74.21875 50.515625 64.515625 \r\nQ 56.984375 54.828125 56.984375 36.375 \r\nQ 56.984375 17.96875 50.515625 8.265625 \r\nQ 44.046875 -1.421875 31.78125 -1.421875 \r\nQ 19.53125 -1.421875 13.0625 8.265625 \r\nQ 6.59375 17.96875 6.59375 36.375 \r\nQ 6.59375 54.828125 13.0625 64.515625 \r\nQ 19.53125 74.21875 31.78125 74.21875 \r\nz\r\n\" id=\"DejaVuSans-48\"/>\r\n       </defs>\r\n       <use xlink:href=\"#DejaVuSans-54\"/>\r\n       <use x=\"63.623047\" xlink:href=\"#DejaVuSans-48\"/>\r\n      </g>\r\n     </g>\r\n    </g>\r\n    <g id=\"xtick_2\">\r\n     <g id=\"line2d_2\">\r\n      <g>\r\n       <use style=\"stroke:#000000;stroke-width:0.8;\" x=\"140.743247\" xlink:href=\"#m55380200ee\" y=\"224.64\"/>\r\n      </g>\r\n     </g>\r\n     <g id=\"text_2\">\r\n      <!-- 80 -->\r\n      <g transform=\"translate(134.380747 239.238437)scale(0.1 -0.1)\">\r\n       <defs>\r\n        <path d=\"M 31.78125 34.625 \r\nQ 24.75 34.625 20.71875 30.859375 \r\nQ 16.703125 27.09375 16.703125 20.515625 \r\nQ 16.703125 13.921875 20.71875 10.15625 \r\nQ 24.75 6.390625 31.78125 6.390625 \r\nQ 38.8125 6.390625 42.859375 10.171875 \r\nQ 46.921875 13.96875 46.921875 20.515625 \r\nQ 46.921875 27.09375 42.890625 30.859375 \r\nQ 38.875 34.625 31.78125 34.625 \r\nz\r\nM 21.921875 38.8125 \r\nQ 15.578125 40.375 12.03125 44.71875 \r\nQ 8.5 49.078125 8.5 55.328125 \r\nQ 8.5 64.0625 14.71875 69.140625 \r\nQ 20.953125 74.21875 31.78125 74.21875 \r\nQ 42.671875 74.21875 48.875 69.140625 \r\nQ 55.078125 64.0625 55.078125 55.328125 \r\nQ 55.078125 49.078125 51.53125 44.71875 \r\nQ 48 40.375 41.703125 38.8125 \r\nQ 48.828125 37.15625 52.796875 32.3125 \r\nQ 56.78125 27.484375 56.78125 20.515625 \r\nQ 56.78125 9.90625 50.3125 4.234375 \r\nQ 43.84375 -1.421875 31.78125 -1.421875 \r\nQ 19.734375 -1.421875 13.25 4.234375 \r\nQ 6.78125 9.90625 6.78125 20.515625 \r\nQ 6.78125 27.484375 10.78125 32.3125 \r\nQ 14.796875 37.15625 21.921875 38.8125 \r\nz\r\nM 18.3125 54.390625 \r\nQ 18.3125 48.734375 21.84375 45.5625 \r\nQ 25.390625 42.390625 31.78125 42.390625 \r\nQ 38.140625 42.390625 41.71875 45.5625 \r\nQ 45.3125 48.734375 45.3125 54.390625 \r\nQ 45.3125 60.0625 41.71875 63.234375 \r\nQ 38.140625 66.40625 31.78125 66.40625 \r\nQ 25.390625 66.40625 21.84375 63.234375 \r\nQ 18.3125 60.0625 18.3125 54.390625 \r\nz\r\n\" id=\"DejaVuSans-56\"/>\r\n       </defs>\r\n       <use xlink:href=\"#DejaVuSans-56\"/>\r\n       <use x=\"63.623047\" xlink:href=\"#DejaVuSans-48\"/>\r\n      </g>\r\n     </g>\r\n    </g>\r\n    <g id=\"xtick_3\">\r\n     <g id=\"line2d_3\">\r\n      <g>\r\n       <use style=\"stroke:#000000;stroke-width:0.8;\" x=\"203.534122\" xlink:href=\"#m55380200ee\" y=\"224.64\"/>\r\n      </g>\r\n     </g>\r\n     <g id=\"text_3\">\r\n      <!-- 100 -->\r\n      <g transform=\"translate(193.990372 239.238437)scale(0.1 -0.1)\">\r\n       <defs>\r\n        <path d=\"M 12.40625 8.296875 \r\nL 28.515625 8.296875 \r\nL 28.515625 63.921875 \r\nL 10.984375 60.40625 \r\nL 10.984375 69.390625 \r\nL 28.421875 72.90625 \r\nL 38.28125 72.90625 \r\nL 38.28125 8.296875 \r\nL 54.390625 8.296875 \r\nL 54.390625 0 \r\nL 12.40625 0 \r\nz\r\n\" id=\"DejaVuSans-49\"/>\r\n       </defs>\r\n       <use xlink:href=\"#DejaVuSans-49\"/>\r\n       <use x=\"63.623047\" xlink:href=\"#DejaVuSans-48\"/>\r\n       <use x=\"127.246094\" xlink:href=\"#DejaVuSans-48\"/>\r\n      </g>\r\n     </g>\r\n    </g>\r\n    <g id=\"xtick_4\">\r\n     <g id=\"line2d_4\">\r\n      <g>\r\n       <use style=\"stroke:#000000;stroke-width:0.8;\" x=\"266.324996\" xlink:href=\"#m55380200ee\" y=\"224.64\"/>\r\n      </g>\r\n     </g>\r\n     <g id=\"text_4\">\r\n      <!-- 120 -->\r\n      <g transform=\"translate(256.781246 239.238437)scale(0.1 -0.1)\">\r\n       <defs>\r\n        <path d=\"M 19.1875 8.296875 \r\nL 53.609375 8.296875 \r\nL 53.609375 0 \r\nL 7.328125 0 \r\nL 7.328125 8.296875 \r\nQ 12.9375 14.109375 22.625 23.890625 \r\nQ 32.328125 33.6875 34.8125 36.53125 \r\nQ 39.546875 41.84375 41.421875 45.53125 \r\nQ 43.3125 49.21875 43.3125 52.78125 \r\nQ 43.3125 58.59375 39.234375 62.25 \r\nQ 35.15625 65.921875 28.609375 65.921875 \r\nQ 23.96875 65.921875 18.8125 64.3125 \r\nQ 13.671875 62.703125 7.8125 59.421875 \r\nL 7.8125 69.390625 \r\nQ 13.765625 71.78125 18.9375 73 \r\nQ 24.125 74.21875 28.421875 74.21875 \r\nQ 39.75 74.21875 46.484375 68.546875 \r\nQ 53.21875 62.890625 53.21875 53.421875 \r\nQ 53.21875 48.921875 51.53125 44.890625 \r\nQ 49.859375 40.875 45.40625 35.40625 \r\nQ 44.1875 33.984375 37.640625 27.21875 \r\nQ 31.109375 20.453125 19.1875 8.296875 \r\nz\r\n\" id=\"DejaVuSans-50\"/>\r\n       </defs>\r\n       <use xlink:href=\"#DejaVuSans-49\"/>\r\n       <use x=\"63.623047\" xlink:href=\"#DejaVuSans-50\"/>\r\n       <use x=\"127.246094\" xlink:href=\"#DejaVuSans-48\"/>\r\n      </g>\r\n     </g>\r\n    </g>\r\n    <g id=\"xtick_5\">\r\n     <g id=\"line2d_5\">\r\n      <g>\r\n       <use style=\"stroke:#000000;stroke-width:0.8;\" x=\"329.115871\" xlink:href=\"#m55380200ee\" y=\"224.64\"/>\r\n      </g>\r\n     </g>\r\n     <g id=\"text_5\">\r\n      <!-- 140 -->\r\n      <g transform=\"translate(319.572121 239.238437)scale(0.1 -0.1)\">\r\n       <defs>\r\n        <path d=\"M 37.796875 64.3125 \r\nL 12.890625 25.390625 \r\nL 37.796875 25.390625 \r\nz\r\nM 35.203125 72.90625 \r\nL 47.609375 72.90625 \r\nL 47.609375 25.390625 \r\nL 58.015625 25.390625 \r\nL 58.015625 17.1875 \r\nL 47.609375 17.1875 \r\nL 47.609375 0 \r\nL 37.796875 0 \r\nL 37.796875 17.1875 \r\nL 4.890625 17.1875 \r\nL 4.890625 26.703125 \r\nz\r\n\" id=\"DejaVuSans-52\"/>\r\n       </defs>\r\n       <use xlink:href=\"#DejaVuSans-49\"/>\r\n       <use x=\"63.623047\" xlink:href=\"#DejaVuSans-52\"/>\r\n       <use x=\"127.246094\" xlink:href=\"#DejaVuSans-48\"/>\r\n      </g>\r\n     </g>\r\n    </g>\r\n   </g>\r\n   <g id=\"matplotlib.axis_2\">\r\n    <g id=\"ytick_1\">\r\n     <g id=\"line2d_6\">\r\n      <defs>\r\n       <path d=\"M 0 0 \r\nL -3.5 0 \r\n\" id=\"ma797564152\" style=\"stroke:#000000;stroke-width:0.8;\"/>\r\n      </defs>\r\n      <g>\r\n       <use style=\"stroke:#000000;stroke-width:0.8;\" x=\"33.2875\" xlink:href=\"#ma797564152\" y=\"213.560485\"/>\r\n      </g>\r\n     </g>\r\n     <g id=\"text_6\">\r\n      <!-- 100 -->\r\n      <g transform=\"translate(7.2 217.359704)scale(0.1 -0.1)\">\r\n       <use xlink:href=\"#DejaVuSans-49\"/>\r\n       <use x=\"63.623047\" xlink:href=\"#DejaVuSans-48\"/>\r\n       <use x=\"127.246094\" xlink:href=\"#DejaVuSans-48\"/>\r\n      </g>\r\n     </g>\r\n    </g>\r\n    <g id=\"ytick_2\">\r\n     <g id=\"line2d_7\">\r\n      <g>\r\n       <use style=\"stroke:#000000;stroke-width:0.8;\" x=\"33.2875\" xlink:href=\"#ma797564152\" y=\"177.213711\"/>\r\n      </g>\r\n     </g>\r\n     <g id=\"text_7\">\r\n      <!-- 120 -->\r\n      <g transform=\"translate(7.2 181.01293)scale(0.1 -0.1)\">\r\n       <use xlink:href=\"#DejaVuSans-49\"/>\r\n       <use x=\"63.623047\" xlink:href=\"#DejaVuSans-50\"/>\r\n       <use x=\"127.246094\" xlink:href=\"#DejaVuSans-48\"/>\r\n      </g>\r\n     </g>\r\n    </g>\r\n    <g id=\"ytick_3\">\r\n     <g id=\"line2d_8\">\r\n      <g>\r\n       <use style=\"stroke:#000000;stroke-width:0.8;\" x=\"33.2875\" xlink:href=\"#ma797564152\" y=\"140.866938\"/>\r\n      </g>\r\n     </g>\r\n     <g id=\"text_8\">\r\n      <!-- 140 -->\r\n      <g transform=\"translate(7.2 144.666156)scale(0.1 -0.1)\">\r\n       <use xlink:href=\"#DejaVuSans-49\"/>\r\n       <use x=\"63.623047\" xlink:href=\"#DejaVuSans-52\"/>\r\n       <use x=\"127.246094\" xlink:href=\"#DejaVuSans-48\"/>\r\n      </g>\r\n     </g>\r\n    </g>\r\n    <g id=\"ytick_4\">\r\n     <g id=\"line2d_9\">\r\n      <g>\r\n       <use style=\"stroke:#000000;stroke-width:0.8;\" x=\"33.2875\" xlink:href=\"#ma797564152\" y=\"104.520164\"/>\r\n      </g>\r\n     </g>\r\n     <g id=\"text_9\">\r\n      <!-- 160 -->\r\n      <g transform=\"translate(7.2 108.319383)scale(0.1 -0.1)\">\r\n       <use xlink:href=\"#DejaVuSans-49\"/>\r\n       <use x=\"63.623047\" xlink:href=\"#DejaVuSans-54\"/>\r\n       <use x=\"127.246094\" xlink:href=\"#DejaVuSans-48\"/>\r\n      </g>\r\n     </g>\r\n    </g>\r\n    <g id=\"ytick_5\">\r\n     <g id=\"line2d_10\">\r\n      <g>\r\n       <use style=\"stroke:#000000;stroke-width:0.8;\" x=\"33.2875\" xlink:href=\"#ma797564152\" y=\"68.17339\"/>\r\n      </g>\r\n     </g>\r\n     <g id=\"text_10\">\r\n      <!-- 180 -->\r\n      <g transform=\"translate(7.2 71.972609)scale(0.1 -0.1)\">\r\n       <use xlink:href=\"#DejaVuSans-49\"/>\r\n       <use x=\"63.623047\" xlink:href=\"#DejaVuSans-56\"/>\r\n       <use x=\"127.246094\" xlink:href=\"#DejaVuSans-48\"/>\r\n      </g>\r\n     </g>\r\n    </g>\r\n    <g id=\"ytick_6\">\r\n     <g id=\"line2d_11\">\r\n      <g>\r\n       <use style=\"stroke:#000000;stroke-width:0.8;\" x=\"33.2875\" xlink:href=\"#ma797564152\" y=\"31.826617\"/>\r\n      </g>\r\n     </g>\r\n     <g id=\"text_11\">\r\n      <!-- 200 -->\r\n      <g transform=\"translate(7.2 35.625835)scale(0.1 -0.1)\">\r\n       <use xlink:href=\"#DejaVuSans-50\"/>\r\n       <use x=\"63.623047\" xlink:href=\"#DejaVuSans-48\"/>\r\n       <use x=\"127.246094\" xlink:href=\"#DejaVuSans-48\"/>\r\n      </g>\r\n     </g>\r\n    </g>\r\n   </g>\r\n   <g id=\"patch_3\">\r\n    <path d=\"M 33.2875 224.64 \r\nL 33.2875 7.2 \r\n\" style=\"fill:none;stroke:#000000;stroke-linecap:square;stroke-linejoin:miter;stroke-width:0.8;\"/>\r\n   </g>\r\n   <g id=\"patch_4\">\r\n    <path d=\"M 368.0875 224.64 \r\nL 368.0875 7.2 \r\n\" style=\"fill:none;stroke:#000000;stroke-linecap:square;stroke-linejoin:miter;stroke-width:0.8;\"/>\r\n   </g>\r\n   <g id=\"patch_5\">\r\n    <path d=\"M 33.2875 224.64 \r\nL 368.0875 224.64 \r\n\" style=\"fill:none;stroke:#000000;stroke-linecap:square;stroke-linejoin:miter;stroke-width:0.8;\"/>\r\n   </g>\r\n   <g id=\"patch_6\">\r\n    <path d=\"M 33.2875 7.2 \r\nL 368.0875 7.2 \r\n\" style=\"fill:none;stroke:#000000;stroke-linecap:square;stroke-linejoin:miter;stroke-width:0.8;\"/>\r\n   </g>\r\n  </g>\r\n </g>\r\n <defs>\r\n  <clipPath id=\"p10c812f416\">\r\n   <rect height=\"217.44\" width=\"334.8\" x=\"33.2875\" y=\"7.2\"/>\r\n  </clipPath>\r\n </defs>\r\n</svg>\r\n",
      "image/png": "[encoded data removed]"
     },
     "metadata": {
      "needs_background": "light"
     }
    }
   ],
   "source": [
    "from matplotlib import pyplot\n",
    "from math import sqrt\n",
    "\n",
    "# Creació del Generador\n",
    "rng = random.default_rng()\n",
    "\n",
    "# Creació dels conjunts de dades de X i de Y\n",
    "data1 = 20 * rng.standard_normal(100) + 100\n",
    "data2 = data1 + (10 * rng.standard_normal(100) + 50)\n",
    "\n",
    "# Resum estadístic de les dades\n",
    "print('data1: mean=%.3f stdv=%.3f' % (np.mean(data1), np.std(data1)))\n",
    "print('data2: mean=%.3f stdv=%.3f' % (np.mean(data2), np.std(data2)))\n",
    "\n",
    "# Visualització de les dades\n",
    "pyplot.scatter(data1, data2)\n",
    "pyplot.show()"
   ]
  },
  {
   "source": [
    "#### 1. Covariància entre X i Y\n",
    "La covariància és una mesura de dispersió conjunta de dues variables estadístiques. La covariància mesura la variació total de dues variables aleatòries respecte els seus valors esperats. \n",
    "\n",
    "Amb aquesta mesura només es pot mesurar la direcció de la relació (és a dir, si les variables tendeixen a moure's en tàndem o mostren una relació inversa). No obstant això, no indica la força de la relació, ni la dependència entre les variables.\n",
    "\n",
    "La fórmula de la covariància per a una mostra és:\n",
    "\n",
    "<img src=\"https://cdn.corporatefinanceinstitute.com/assets/covariance2.png\" alt=\"Covariance Formula (Sample)\" style=\"zoom:50%;\" />  \n",
    "\n",
    "ón:\n",
    "- Xi : observació número i de la variable X\n",
    "- Yj : observació número j de la variable Y\n",
    "- X̄ : mitjana aritmètica de X\n",
    "- Ȳ : mitjana aritmètica de Y\n",
    "- n : número de observacions"
   ],
   "cell_type": "markdown",
   "metadata": {}
  },
  {
   "cell_type": "code",
   "execution_count": 21,
   "metadata": {},
   "outputs": [
    {
     "output_type": "stream",
     "name": "stdout",
     "text": [
      "Covariància entre X i Y: 394.733\n"
     ]
    }
   ],
   "source": [
    "x_mean = np.mean(data1)\n",
    "y_mean = np.mean(data2)\n",
    "n = data1.size\n",
    "\n",
    "x_distance = [xi - x_mean for xi in data1]\n",
    "y_distance = [yi - y_mean for yi in data2]\n",
    "cov_xy = sum(np.multiply(x_distance, y_distance)) / (n-1)\n",
    "print(\"Covariància entre X i Y: %.3f\" % cov_xy)"
   ]
  },
  {
   "source": [
    "#### 2. Desviació estàndard\n",
    "\n",
    "La desviació estàndard (σ), també coneguda com a desviació tipus o desviació típica, és una mesura que quantifica quanta dispersió hi ha respecte a la mitjana.\n",
    "\n",
    "Una desviació tipus baixa indica que els punts de dades tendeixen a ser propers a la mitjana, mentre que una desviació tipus alta indica que les dades s'estenen al llarg d'un gran rang de valors.\n",
    "\n",
    "La desviació estándard d'un conjunt de dades és l'arrell quadrada de la seva variància. Una propietat útil de la desviació tipus és que, a diferència de la variància, està expressada en les mateixes unitats que les de les dades.\n",
    "\n",
    "  <img src=\"https://tablademultiplicar.net/wp-content/uploads/2020/04/formulas-de-desviacion-estandar.jpg\" alt=\"Fórmulas de desviación estándar - Tabla de multiplicar\" style=\"zoom: 67%;\" />\n",
    "\n",
    "on:\n",
    "* Xi : observació número i de la variable X\n",
    "* X̄ : mitjana aritmètica de X\n",
    "* N : número d'observacions de X"
   ],
   "cell_type": "markdown",
   "metadata": {}
  },
  {
   "cell_type": "code",
   "execution_count": 22,
   "metadata": {},
   "outputs": [
    {
     "output_type": "stream",
     "name": "stdout",
     "text": [
      "Desviació estàndard de X: 19.835\n"
     ]
    }
   ],
   "source": [
    "x_distance_squared = [(xi - x_mean)**2 for xi in data1]\n",
    "x_variance = np.sum(x_distance_squared) / n\n",
    "x_std = sqrt(x_variance)\n",
    "print(\"Desviació estàndard de X: %.3f\" % x_std)"
   ]
  },
  {
   "cell_type": "code",
   "execution_count": 24,
   "metadata": {},
   "outputs": [
    {
     "output_type": "stream",
     "name": "stdout",
     "text": [
      "Desviació estàndard de Y: 22.615\n"
     ]
    }
   ],
   "source": [
    "y_distance_squared = [(yi - y_mean)**2 for yi in data2]\n",
    "y_variance = np.sum(y_distance_squared) / n\n",
    "y_std = sqrt(y_variance)\n",
    "print(\"Desviació estàndard de Y: %.3f\" % y_std)"
   ]
  },
  {
   "source": [
    "#### 3. Càlcul de la correlació de Pearson \n",
    "\n",
    "La correlació mesura la força de la relació entre variables. La correlació és la mesura escalada de la covariància. No té cap dimensió, és a dir, el coeficient de correlació és sempre un valor pur i no es mesura en cap unitat.\n",
    "\n",
    "El seu valor, amb un rang de \\[-1, 1], pot interpretar-se de la següent manera:\n",
    "* +1.0 - Correlació positiva completa\n",
    "* +0.8 - Correlació positiva forta\n",
    "* +0.6 - Correlació positiva moderada\n",
    "* 0.0 - Sense cap correlació\n",
    "* -0.6 - Correlació negativa moderada\n",
    "* -0.8 - Correlació negativa forta\n",
    "* -1.0 - Correlació negativa completa\n",
    "\n",
    "El rendiment d'alguns algoritmes pot deteriorar-se si dues o més variables estan estretament relacionades, anomenades multicol·linealitat. Per exemple, el model de regressió lineal múltiple assumeix que no existeix multicol·linealitat perfecta en el model."
   ],
   "cell_type": "markdown",
   "metadata": {}
  },
  {
   "cell_type": "code",
   "execution_count": 33,
   "metadata": {},
   "outputs": [
    {
     "output_type": "stream",
     "name": "stdout",
     "text": [
      "Coeficient de Correlació entre X i Y: 0.880\n"
     ]
    }
   ],
   "source": [
    "coefcorr = cov_xy / (x_std * y_std)\n",
    "print(\"Coeficient de Correlació entre X i Y: %.3f\" % coefcorr)"
   ]
  },
  {
   "source": [
    "#### 4. Creació de la funció"
   ],
   "cell_type": "markdown",
   "metadata": {}
  },
  {
   "cell_type": "code",
   "execution_count": 34,
   "metadata": {},
   "outputs": [],
   "source": [
    "def coefcorr(x, y):\n",
    "\n",
    "    x_distance = [xi - np.mean(x) for xi in x]\n",
    "    y_distance = [yi - np.mean(y) for yi in y]\n",
    "    cov_xy = sum(np.multiply(x_distance, y_distance)) / (x.size-1)\n",
    "\n",
    "    x_distance_square = np.power(x_distance, 2)\n",
    "    x_std = sqrt(np.sum(x_distance_square / x.size))\n",
    "\n",
    "    y_distance_square = np.power(y_distance, 2)\n",
    "    y_std = sqrt(np.sum(y_distance_square/ y.size))\n",
    "\n",
    "    return cov_xy / (x_std * y_std)"
   ]
  },
  {
   "cell_type": "code",
   "execution_count": 36,
   "metadata": {},
   "outputs": [
    {
     "output_type": "execute_result",
     "data": {
      "text/plain": [
       "0.8799798710644573"
      ]
     },
     "metadata": {},
     "execution_count": 36
    }
   ],
   "source": [
    "coefcorr(data1, data2)"
   ]
  },
  {
   "source": [
    "#### 5. Comprobació"
   ],
   "cell_type": "markdown",
   "metadata": {}
  },
  {
   "cell_type": "code",
   "execution_count": 35,
   "metadata": {},
   "outputs": [
    {
     "output_type": "execute_result",
     "data": {
      "text/plain": [
       "array([[1.        , 0.87118007],\n",
       "       [0.87118007, 1.        ]])"
      ]
     },
     "metadata": {},
     "execution_count": 35
    }
   ],
   "source": [
    "np.corrcoef(data1, data2)"
   ]
  }
 ]
}